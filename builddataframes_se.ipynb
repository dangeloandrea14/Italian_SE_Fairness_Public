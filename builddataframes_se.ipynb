{
 "cells": [
  {
   "cell_type": "code",
   "execution_count": 30,
   "metadata": {},
   "outputs": [],
   "source": [
    "import pandas as pd\n",
    "import numpy as np\n",
    "import os\n",
    "from tqdm import tqdm"
   ]
  },
  {
   "attachments": {},
   "cell_type": "markdown",
   "metadata": {},
   "source": [
    "## Parametri"
   ]
  },
  {
   "cell_type": "code",
   "execution_count": 31,
   "metadata": {},
   "outputs": [],
   "source": [
    "folder = os.path.join(\"..\",\"processed_data\")\n",
    "savefolder = 'windowed_data_se'\n",
    "tw = [2015,2022]\n",
    "windowsize = 3"
   ]
  },
  {
   "attachments": {},
   "cell_type": "markdown",
   "metadata": {},
   "source": [
    "## Caricamento e utils"
   ]
  },
  {
   "cell_type": "code",
   "execution_count": 32,
   "metadata": {},
   "outputs": [],
   "source": [
    "def temporalmerge(df1, temporaldf, columns):\n",
    "    for prof in tqdm( df1.ID.unique() ):\n",
    "        df2 = df1\n",
    "        idx = df1.loc[df1.ID == prof].index\n",
    "        temp = temporaldf.loc[temporaldf.ID == prof]\n",
    "\n",
    "        for column in columns:\n",
    "            columndict = {}\n",
    "\n",
    "            for index,row in temp.iterrows():\n",
    "                #each row is a year\n",
    "                try:\n",
    "                    columndict[row['anno']] = row[column]\n",
    "                except:\n",
    "                    columndict[row['year']] = row[column]\n",
    "\n",
    "            for year in sorted( columndict.keys() ):\n",
    "                df2.loc[idx, column +  \"_\" + str(year)] = columndict[year]\n",
    "\n",
    "    df2.fillna(0, inplace=True)\n",
    "\n",
    "    for col in df2.columns:\n",
    "        try:\n",
    "            if 'mean' not in col:\n",
    "                df2[col] = df2[col].astype(int)\n",
    "        except:\n",
    "            continue\n",
    "\n",
    "    return df2"
   ]
  },
  {
   "cell_type": "code",
   "execution_count": 33,
   "metadata": {},
   "outputs": [],
   "source": [
    "settoriscientifici = pd.read_csv(os.path.join(\"..\",\"data\",\"settori_scientifici.csv\"), index_col = 0).reset_index(drop=True)"
   ]
  },
  {
   "cell_type": "code",
   "execution_count": 34,
   "metadata": {},
   "outputs": [],
   "source": [
    "docenti = pd.read_csv(os.path.join(folder,'docenti.csv'), index_col = 0)\n",
    "afferisce = pd.read_csv(os.path.join(folder,'afferisce.csv'), index_col = 0)\n",
    "ateneo = pd.read_csv(os.path.join(folder,'ateneo.csv'), index_col = 0)\n",
    "fascia = pd.read_csv(os.path.join(folder,'fascia.csv'), index_col = 0)\n",
    "lavora = pd.read_csv(os.path.join(folder,'lavora.csv'), index_col = 0)\n",
    "ruolo = pd.read_csv(os.path.join(folder,'ruolo.csv'), index_col = 0)\n",
    "scopus_static = pd.read_csv(os.path.join(folder,'scopus_static.csv'), index_col = 0)\n",
    "scopus_yby = pd.read_csv(os.path.join(folder,'scopus_yby.csv'), index_col = 0)\n",
    "settore = pd.read_csv(os.path.join(folder,'settore.csv'), index_col = 0)\n",
    "settoreconcorsuale = pd.read_csv(os.path.join(folder,'settoreconcorsuale.csv'), index_col = 0)\n",
    "strutturaafferenza = pd.read_csv(os.path.join(folder,'strutturaafferenza.csv'), index_col = 0)\n"
   ]
  },
  {
   "attachments": {},
   "cell_type": "markdown",
   "metadata": {},
   "source": [
    "## Costruzione DataFrame Italy"
   ]
  },
  {
   "cell_type": "code",
   "execution_count": 35,
   "metadata": {},
   "outputs": [
    {
     "name": "stdout",
     "output_type": "stream",
     "text": [
      "['authors_sa.csv', 'authors_mde.csv', 'authors_st.csv', 'authors_sq.csv', 'authors_se.csv']\n"
     ]
    }
   ],
   "source": [
    "import re\n",
    "scholarfolder = os.path.join('..','data','scholar')\n",
    "scholarfiles = os.listdir(scholarfolder)\n",
    "print(scholarfiles)"
   ]
  },
  {
   "cell_type": "code",
   "execution_count": 36,
   "metadata": {},
   "outputs": [],
   "source": [
    "def split_name(name, return_first=True):\n",
    "    pattern = r'(.+?)[ -]*([A-Z][a-z]+ ?[A-Z]*[a-z]*)'\n",
    "    prof = name\n",
    "    try:\n",
    "        first_name = (re.findall(pattern, prof)[0])[0].replace(u'\\xa0', u'')\n",
    "        last_name = (re.findall(pattern, prof)[0])[1]\n",
    "        if return_first:\n",
    "            return first_name\n",
    "        else:\n",
    "            return last_name\n",
    "    except:\n",
    "        prof = prof.replace('é','e')\n",
    "        prof = prof.replace('Ì', 'I')\n",
    "        try:\n",
    "            first_name = (re.findall(pattern, prof)[0])[0].replace(u'\\xa0', u'')\n",
    "            last_name = (re.findall(pattern, prof)[0])[1]\n",
    "            if return_first:\n",
    "                return first_name\n",
    "            else:\n",
    "                return last_name\n",
    "        except:\n",
    "            return \"n\""
   ]
  },
  {
   "cell_type": "code",
   "execution_count": 37,
   "metadata": {},
   "outputs": [],
   "source": [
    "##prepare software_engineers\n",
    "\n",
    "software_engineers = pd.read_csv(os.path.join(scholarfolder, \"authors_se.csv\"))\n",
    "software_architects = pd.read_csv(os.path.join(scholarfolder, \"authors_sa.csv\"))\n",
    "model_driven_engineers = pd.read_csv(os.path.join(scholarfolder, \"authors_mde.csv\"))\n",
    "software_quality = pd.read_csv(os.path.join(scholarfolder, \"authors_sq.csv\"))\n",
    "software_testing = pd.read_csv(os.path.join(scholarfolder, \"authors_st.csv\"))\n",
    "\n",
    "#make list of all\n",
    "areas_list = [software_engineers,software_architects,model_driven_engineers,software_quality,software_testing]\n",
    "\n",
    "for al in areas_list:\n",
    "    for index, row in al.iterrows():\n",
    "\n",
    "        #Remove parenthesis and content from column name\n",
    "        al.loc[index,'Name'] = re.sub(r'\\([^)]*\\)', '', row['Name'])\n",
    "\n",
    "        al.loc[index,'First_Name'] = split_name(row['Name'],return_first=True)\n",
    "        al.loc[index,'Surname'] = split_name(row['Name'],return_first=False)\n",
    "\n",
    "        #lowercase First_Name and Surname\n",
    "        al.loc[index,'Surname'] = al.loc[index,'Surname'].lower()\n",
    "        al.loc[index,'First_Name'] = al.loc[index,'First_Name'].lower()\n",
    "\n",
    "software_engineers = software_engineers[['Name','First_Name','Surname']]\n",
    "software_architects = software_architects[['Name','First_Name','Surname']]\n",
    "model_driven_engineers = model_driven_engineers[['Name','First_Name','Surname']]\n",
    "software_quality = software_quality[['Name','First_Name','Surname']]\n",
    "software_testing = software_testing[['Name','First_Name','Surname']]\n",
    "\n",
    "se_total = pd.concat([software_engineers,software_architects,model_driven_engineers,software_quality,software_testing],axis=0,ignore_index=True)\n",
    "\n",
    "se_total = se_total.drop_duplicates(subset=['Name','First_Name','Surname'], keep='first')"
   ]
  },
  {
   "cell_type": "code",
   "execution_count": 38,
   "metadata": {},
   "outputs": [],
   "source": [
    "docenti['First_Name'] = docenti['First_Name'].str.lower()\n",
    "docenti['Surname'] = docenti['Surname'].str.lower()"
   ]
  },
  {
   "cell_type": "code",
   "execution_count": 39,
   "metadata": {},
   "outputs": [],
   "source": [
    "docenti = docenti.merge(se_total, on=['First_Name','Surname'])"
   ]
  },
  {
   "cell_type": "code",
   "execution_count": 40,
   "metadata": {},
   "outputs": [],
   "source": [
    "f = lambda x: str( x[1].split(' ')[0])\n",
    "settoriscientifici['S.S.D.'] = settoriscientifici.apply(f, axis=1)\n",
    "settoriscientifici = settoriscientifici[['Cod_AreaCUN','S.S.D.']]"
   ]
  },
  {
   "cell_type": "code",
   "execution_count": 41,
   "metadata": {},
   "outputs": [],
   "source": [
    "docenti = docenti.merge(settoriscientifici)"
   ]
  },
  {
   "cell_type": "code",
   "execution_count": 42,
   "metadata": {},
   "outputs": [],
   "source": [
    "lavora = lavora.drop(columns=['ateneo ID'])\n",
    "lavmin = lavora.groupby(['ID'])['anno'].min().reset_index()\n",
    "lavmin.rename(columns={'anno':'inizio'},inplace=True)\n",
    "lavmax = lavora.groupby(['ID'])['anno'].max().reset_index()\n",
    "lavmax.rename(columns={'anno':'fine'},inplace=True)\n",
    "lavdur = lavora.groupby(['ID'])['anno'].count().reset_index()\n",
    "lavdur.rename(columns={'anno':'durata'},inplace=True)"
   ]
  },
  {
   "cell_type": "code",
   "execution_count": 43,
   "metadata": {},
   "outputs": [],
   "source": [
    "lavora = lavmin.merge(lavmax)\n",
    "lavora = lavora.merge(lavdur)"
   ]
  },
  {
   "cell_type": "code",
   "execution_count": 44,
   "metadata": {},
   "outputs": [
    {
     "data": {
      "text/html": [
       "<div>\n",
       "<style scoped>\n",
       "    .dataframe tbody tr th:only-of-type {\n",
       "        vertical-align: middle;\n",
       "    }\n",
       "\n",
       "    .dataframe tbody tr th {\n",
       "        vertical-align: top;\n",
       "    }\n",
       "\n",
       "    .dataframe thead th {\n",
       "        text-align: right;\n",
       "    }\n",
       "</style>\n",
       "<table border=\"1\" class=\"dataframe\">\n",
       "  <thead>\n",
       "    <tr style=\"text-align: right;\">\n",
       "      <th></th>\n",
       "      <th>ID</th>\n",
       "      <th>inizio</th>\n",
       "      <th>fine</th>\n",
       "      <th>durata</th>\n",
       "    </tr>\n",
       "  </thead>\n",
       "  <tbody>\n",
       "    <tr>\n",
       "      <th>0</th>\n",
       "      <td>0</td>\n",
       "      <td>2012</td>\n",
       "      <td>2022</td>\n",
       "      <td>11</td>\n",
       "    </tr>\n",
       "    <tr>\n",
       "      <th>1</th>\n",
       "      <td>1</td>\n",
       "      <td>2012</td>\n",
       "      <td>2022</td>\n",
       "      <td>11</td>\n",
       "    </tr>\n",
       "    <tr>\n",
       "      <th>2</th>\n",
       "      <td>2</td>\n",
       "      <td>2012</td>\n",
       "      <td>2022</td>\n",
       "      <td>11</td>\n",
       "    </tr>\n",
       "    <tr>\n",
       "      <th>3</th>\n",
       "      <td>3</td>\n",
       "      <td>2019</td>\n",
       "      <td>2022</td>\n",
       "      <td>4</td>\n",
       "    </tr>\n",
       "    <tr>\n",
       "      <th>4</th>\n",
       "      <td>4</td>\n",
       "      <td>2012</td>\n",
       "      <td>2022</td>\n",
       "      <td>11</td>\n",
       "    </tr>\n",
       "    <tr>\n",
       "      <th>...</th>\n",
       "      <td>...</td>\n",
       "      <td>...</td>\n",
       "      <td>...</td>\n",
       "      <td>...</td>\n",
       "    </tr>\n",
       "    <tr>\n",
       "      <th>84724</th>\n",
       "      <td>84724</td>\n",
       "      <td>2014</td>\n",
       "      <td>2016</td>\n",
       "      <td>3</td>\n",
       "    </tr>\n",
       "    <tr>\n",
       "      <th>84725</th>\n",
       "      <td>84725</td>\n",
       "      <td>2016</td>\n",
       "      <td>2017</td>\n",
       "      <td>2</td>\n",
       "    </tr>\n",
       "    <tr>\n",
       "      <th>84726</th>\n",
       "      <td>84726</td>\n",
       "      <td>2014</td>\n",
       "      <td>2015</td>\n",
       "      <td>2</td>\n",
       "    </tr>\n",
       "    <tr>\n",
       "      <th>84727</th>\n",
       "      <td>84727</td>\n",
       "      <td>2015</td>\n",
       "      <td>2015</td>\n",
       "      <td>1</td>\n",
       "    </tr>\n",
       "    <tr>\n",
       "      <th>84728</th>\n",
       "      <td>84728</td>\n",
       "      <td>2015</td>\n",
       "      <td>2015</td>\n",
       "      <td>1</td>\n",
       "    </tr>\n",
       "  </tbody>\n",
       "</table>\n",
       "<p>84729 rows × 4 columns</p>\n",
       "</div>"
      ],
      "text/plain": [
       "          ID  inizio  fine  durata\n",
       "0          0    2012  2022      11\n",
       "1          1    2012  2022      11\n",
       "2          2    2012  2022      11\n",
       "3          3    2019  2022       4\n",
       "4          4    2012  2022      11\n",
       "...      ...     ...   ...     ...\n",
       "84724  84724    2014  2016       3\n",
       "84725  84725    2016  2017       2\n",
       "84726  84726    2014  2015       2\n",
       "84727  84727    2015  2015       1\n",
       "84728  84728    2015  2015       1\n",
       "\n",
       "[84729 rows x 4 columns]"
      ]
     },
     "execution_count": 44,
     "metadata": {},
     "output_type": "execute_result"
    }
   ],
   "source": [
    "lavora"
   ]
  },
  {
   "cell_type": "code",
   "execution_count": 45,
   "metadata": {},
   "outputs": [
    {
     "data": {
      "text/html": [
       "<div>\n",
       "<style scoped>\n",
       "    .dataframe tbody tr th:only-of-type {\n",
       "        vertical-align: middle;\n",
       "    }\n",
       "\n",
       "    .dataframe tbody tr th {\n",
       "        vertical-align: top;\n",
       "    }\n",
       "\n",
       "    .dataframe thead th {\n",
       "        text-align: right;\n",
       "    }\n",
       "</style>\n",
       "<table border=\"1\" class=\"dataframe\">\n",
       "  <thead>\n",
       "    <tr style=\"text-align: right;\">\n",
       "      <th></th>\n",
       "      <th>ID</th>\n",
       "      <th>inizio</th>\n",
       "      <th>fine</th>\n",
       "      <th>durata</th>\n",
       "    </tr>\n",
       "  </thead>\n",
       "  <tbody>\n",
       "    <tr>\n",
       "      <th>0</th>\n",
       "      <td>0</td>\n",
       "      <td>2012</td>\n",
       "      <td>2022</td>\n",
       "      <td>11</td>\n",
       "    </tr>\n",
       "    <tr>\n",
       "      <th>1</th>\n",
       "      <td>1</td>\n",
       "      <td>2012</td>\n",
       "      <td>2022</td>\n",
       "      <td>11</td>\n",
       "    </tr>\n",
       "    <tr>\n",
       "      <th>2</th>\n",
       "      <td>2</td>\n",
       "      <td>2012</td>\n",
       "      <td>2022</td>\n",
       "      <td>11</td>\n",
       "    </tr>\n",
       "    <tr>\n",
       "      <th>4</th>\n",
       "      <td>4</td>\n",
       "      <td>2012</td>\n",
       "      <td>2022</td>\n",
       "      <td>11</td>\n",
       "    </tr>\n",
       "    <tr>\n",
       "      <th>5</th>\n",
       "      <td>5</td>\n",
       "      <td>2012</td>\n",
       "      <td>2022</td>\n",
       "      <td>11</td>\n",
       "    </tr>\n",
       "    <tr>\n",
       "      <th>...</th>\n",
       "      <td>...</td>\n",
       "      <td>...</td>\n",
       "      <td>...</td>\n",
       "      <td>...</td>\n",
       "    </tr>\n",
       "    <tr>\n",
       "      <th>84682</th>\n",
       "      <td>84682</td>\n",
       "      <td>2012</td>\n",
       "      <td>2022</td>\n",
       "      <td>10</td>\n",
       "    </tr>\n",
       "    <tr>\n",
       "      <th>84684</th>\n",
       "      <td>84684</td>\n",
       "      <td>2012</td>\n",
       "      <td>2022</td>\n",
       "      <td>11</td>\n",
       "    </tr>\n",
       "    <tr>\n",
       "      <th>84685</th>\n",
       "      <td>84685</td>\n",
       "      <td>2014</td>\n",
       "      <td>2022</td>\n",
       "      <td>9</td>\n",
       "    </tr>\n",
       "    <tr>\n",
       "      <th>84686</th>\n",
       "      <td>84686</td>\n",
       "      <td>2014</td>\n",
       "      <td>2022</td>\n",
       "      <td>9</td>\n",
       "    </tr>\n",
       "    <tr>\n",
       "      <th>84687</th>\n",
       "      <td>84687</td>\n",
       "      <td>2012</td>\n",
       "      <td>2022</td>\n",
       "      <td>11</td>\n",
       "    </tr>\n",
       "  </tbody>\n",
       "</table>\n",
       "<p>40165 rows × 4 columns</p>\n",
       "</div>"
      ],
      "text/plain": [
       "          ID  inizio  fine  durata\n",
       "0          0    2012  2022      11\n",
       "1          1    2012  2022      11\n",
       "2          2    2012  2022      11\n",
       "4          4    2012  2022      11\n",
       "5          5    2012  2022      11\n",
       "...      ...     ...   ...     ...\n",
       "84682  84682    2012  2022      10\n",
       "84684  84684    2012  2022      11\n",
       "84685  84685    2014  2022       9\n",
       "84686  84686    2014  2022       9\n",
       "84687  84687    2012  2022      11\n",
       "\n",
       "[40165 rows x 4 columns]"
      ]
     },
     "execution_count": 45,
     "metadata": {},
     "output_type": "execute_result"
    }
   ],
   "source": [
    "lavora = lavora.loc[(lavora.inizio <= tw[0]) & (lavora.fine >= tw[1]) & (lavora.durata >= (tw[1]-tw[0]+1))]\n",
    "lavora"
   ]
  },
  {
   "cell_type": "code",
   "execution_count": 46,
   "metadata": {},
   "outputs": [],
   "source": [
    "docenti = docenti.merge(lavora)\n",
    "#docenti"
   ]
  },
  {
   "attachments": {},
   "cell_type": "markdown",
   "metadata": {},
   "source": [
    "Aggiungiamo i dati di SCOPUS"
   ]
  },
  {
   "cell_type": "code",
   "execution_count": 47,
   "metadata": {},
   "outputs": [
    {
     "name": "stderr",
     "output_type": "stream",
     "text": [
      "  0%|          | 0/72 [00:00<?, ?it/s]/var/folders/1f/dn5t35316d5b0gv0v6mcj6sm0000gn/T/ipykernel_4280/398045178.py:18: PerformanceWarning: DataFrame is highly fragmented.  This is usually the result of calling `frame.insert` many times, which has poor performance.  Consider joining all columns at once using pd.concat(axis=1) instead. To get a de-fragmented frame, use `newframe = frame.copy()`\n",
      "  df2.loc[idx, column +  \"_\" + str(year)] = columndict[year]\n",
      "/var/folders/1f/dn5t35316d5b0gv0v6mcj6sm0000gn/T/ipykernel_4280/398045178.py:18: PerformanceWarning: DataFrame is highly fragmented.  This is usually the result of calling `frame.insert` many times, which has poor performance.  Consider joining all columns at once using pd.concat(axis=1) instead. To get a de-fragmented frame, use `newframe = frame.copy()`\n",
      "  df2.loc[idx, column +  \"_\" + str(year)] = columndict[year]\n",
      "/var/folders/1f/dn5t35316d5b0gv0v6mcj6sm0000gn/T/ipykernel_4280/398045178.py:18: PerformanceWarning: DataFrame is highly fragmented.  This is usually the result of calling `frame.insert` many times, which has poor performance.  Consider joining all columns at once using pd.concat(axis=1) instead. To get a de-fragmented frame, use `newframe = frame.copy()`\n",
      "  df2.loc[idx, column +  \"_\" + str(year)] = columndict[year]\n",
      "/var/folders/1f/dn5t35316d5b0gv0v6mcj6sm0000gn/T/ipykernel_4280/398045178.py:18: PerformanceWarning: DataFrame is highly fragmented.  This is usually the result of calling `frame.insert` many times, which has poor performance.  Consider joining all columns at once using pd.concat(axis=1) instead. To get a de-fragmented frame, use `newframe = frame.copy()`\n",
      "  df2.loc[idx, column +  \"_\" + str(year)] = columndict[year]\n",
      "/var/folders/1f/dn5t35316d5b0gv0v6mcj6sm0000gn/T/ipykernel_4280/398045178.py:18: PerformanceWarning: DataFrame is highly fragmented.  This is usually the result of calling `frame.insert` many times, which has poor performance.  Consider joining all columns at once using pd.concat(axis=1) instead. To get a de-fragmented frame, use `newframe = frame.copy()`\n",
      "  df2.loc[idx, column +  \"_\" + str(year)] = columndict[year]\n",
      "/var/folders/1f/dn5t35316d5b0gv0v6mcj6sm0000gn/T/ipykernel_4280/398045178.py:18: PerformanceWarning: DataFrame is highly fragmented.  This is usually the result of calling `frame.insert` many times, which has poor performance.  Consider joining all columns at once using pd.concat(axis=1) instead. To get a de-fragmented frame, use `newframe = frame.copy()`\n",
      "  df2.loc[idx, column +  \"_\" + str(year)] = columndict[year]\n",
      "/var/folders/1f/dn5t35316d5b0gv0v6mcj6sm0000gn/T/ipykernel_4280/398045178.py:18: PerformanceWarning: DataFrame is highly fragmented.  This is usually the result of calling `frame.insert` many times, which has poor performance.  Consider joining all columns at once using pd.concat(axis=1) instead. To get a de-fragmented frame, use `newframe = frame.copy()`\n",
      "  df2.loc[idx, column +  \"_\" + str(year)] = columndict[year]\n",
      "/var/folders/1f/dn5t35316d5b0gv0v6mcj6sm0000gn/T/ipykernel_4280/398045178.py:18: PerformanceWarning: DataFrame is highly fragmented.  This is usually the result of calling `frame.insert` many times, which has poor performance.  Consider joining all columns at once using pd.concat(axis=1) instead. To get a de-fragmented frame, use `newframe = frame.copy()`\n",
      "  df2.loc[idx, column +  \"_\" + str(year)] = columndict[year]\n",
      "/var/folders/1f/dn5t35316d5b0gv0v6mcj6sm0000gn/T/ipykernel_4280/398045178.py:18: PerformanceWarning: DataFrame is highly fragmented.  This is usually the result of calling `frame.insert` many times, which has poor performance.  Consider joining all columns at once using pd.concat(axis=1) instead. To get a de-fragmented frame, use `newframe = frame.copy()`\n",
      "  df2.loc[idx, column +  \"_\" + str(year)] = columndict[year]\n",
      "/var/folders/1f/dn5t35316d5b0gv0v6mcj6sm0000gn/T/ipykernel_4280/398045178.py:18: PerformanceWarning: DataFrame is highly fragmented.  This is usually the result of calling `frame.insert` many times, which has poor performance.  Consider joining all columns at once using pd.concat(axis=1) instead. To get a de-fragmented frame, use `newframe = frame.copy()`\n",
      "  df2.loc[idx, column +  \"_\" + str(year)] = columndict[year]\n",
      "/var/folders/1f/dn5t35316d5b0gv0v6mcj6sm0000gn/T/ipykernel_4280/398045178.py:18: PerformanceWarning: DataFrame is highly fragmented.  This is usually the result of calling `frame.insert` many times, which has poor performance.  Consider joining all columns at once using pd.concat(axis=1) instead. To get a de-fragmented frame, use `newframe = frame.copy()`\n",
      "  df2.loc[idx, column +  \"_\" + str(year)] = columndict[year]\n",
      "/var/folders/1f/dn5t35316d5b0gv0v6mcj6sm0000gn/T/ipykernel_4280/398045178.py:18: PerformanceWarning: DataFrame is highly fragmented.  This is usually the result of calling `frame.insert` many times, which has poor performance.  Consider joining all columns at once using pd.concat(axis=1) instead. To get a de-fragmented frame, use `newframe = frame.copy()`\n",
      "  df2.loc[idx, column +  \"_\" + str(year)] = columndict[year]\n",
      "/var/folders/1f/dn5t35316d5b0gv0v6mcj6sm0000gn/T/ipykernel_4280/398045178.py:18: PerformanceWarning: DataFrame is highly fragmented.  This is usually the result of calling `frame.insert` many times, which has poor performance.  Consider joining all columns at once using pd.concat(axis=1) instead. To get a de-fragmented frame, use `newframe = frame.copy()`\n",
      "  df2.loc[idx, column +  \"_\" + str(year)] = columndict[year]\n",
      "/var/folders/1f/dn5t35316d5b0gv0v6mcj6sm0000gn/T/ipykernel_4280/398045178.py:18: PerformanceWarning: DataFrame is highly fragmented.  This is usually the result of calling `frame.insert` many times, which has poor performance.  Consider joining all columns at once using pd.concat(axis=1) instead. To get a de-fragmented frame, use `newframe = frame.copy()`\n",
      "  df2.loc[idx, column +  \"_\" + str(year)] = columndict[year]\n",
      "/var/folders/1f/dn5t35316d5b0gv0v6mcj6sm0000gn/T/ipykernel_4280/398045178.py:18: PerformanceWarning: DataFrame is highly fragmented.  This is usually the result of calling `frame.insert` many times, which has poor performance.  Consider joining all columns at once using pd.concat(axis=1) instead. To get a de-fragmented frame, use `newframe = frame.copy()`\n",
      "  df2.loc[idx, column +  \"_\" + str(year)] = columndict[year]\n",
      "/var/folders/1f/dn5t35316d5b0gv0v6mcj6sm0000gn/T/ipykernel_4280/398045178.py:18: PerformanceWarning: DataFrame is highly fragmented.  This is usually the result of calling `frame.insert` many times, which has poor performance.  Consider joining all columns at once using pd.concat(axis=1) instead. To get a de-fragmented frame, use `newframe = frame.copy()`\n",
      "  df2.loc[idx, column +  \"_\" + str(year)] = columndict[year]\n",
      "/var/folders/1f/dn5t35316d5b0gv0v6mcj6sm0000gn/T/ipykernel_4280/398045178.py:18: PerformanceWarning: DataFrame is highly fragmented.  This is usually the result of calling `frame.insert` many times, which has poor performance.  Consider joining all columns at once using pd.concat(axis=1) instead. To get a de-fragmented frame, use `newframe = frame.copy()`\n",
      "  df2.loc[idx, column +  \"_\" + str(year)] = columndict[year]\n",
      "/var/folders/1f/dn5t35316d5b0gv0v6mcj6sm0000gn/T/ipykernel_4280/398045178.py:18: PerformanceWarning: DataFrame is highly fragmented.  This is usually the result of calling `frame.insert` many times, which has poor performance.  Consider joining all columns at once using pd.concat(axis=1) instead. To get a de-fragmented frame, use `newframe = frame.copy()`\n",
      "  df2.loc[idx, column +  \"_\" + str(year)] = columndict[year]\n",
      "/var/folders/1f/dn5t35316d5b0gv0v6mcj6sm0000gn/T/ipykernel_4280/398045178.py:18: PerformanceWarning: DataFrame is highly fragmented.  This is usually the result of calling `frame.insert` many times, which has poor performance.  Consider joining all columns at once using pd.concat(axis=1) instead. To get a de-fragmented frame, use `newframe = frame.copy()`\n",
      "  df2.loc[idx, column +  \"_\" + str(year)] = columndict[year]\n",
      "/var/folders/1f/dn5t35316d5b0gv0v6mcj6sm0000gn/T/ipykernel_4280/398045178.py:18: PerformanceWarning: DataFrame is highly fragmented.  This is usually the result of calling `frame.insert` many times, which has poor performance.  Consider joining all columns at once using pd.concat(axis=1) instead. To get a de-fragmented frame, use `newframe = frame.copy()`\n",
      "  df2.loc[idx, column +  \"_\" + str(year)] = columndict[year]\n",
      "/var/folders/1f/dn5t35316d5b0gv0v6mcj6sm0000gn/T/ipykernel_4280/398045178.py:18: PerformanceWarning: DataFrame is highly fragmented.  This is usually the result of calling `frame.insert` many times, which has poor performance.  Consider joining all columns at once using pd.concat(axis=1) instead. To get a de-fragmented frame, use `newframe = frame.copy()`\n",
      "  df2.loc[idx, column +  \"_\" + str(year)] = columndict[year]\n",
      "/var/folders/1f/dn5t35316d5b0gv0v6mcj6sm0000gn/T/ipykernel_4280/398045178.py:18: PerformanceWarning: DataFrame is highly fragmented.  This is usually the result of calling `frame.insert` many times, which has poor performance.  Consider joining all columns at once using pd.concat(axis=1) instead. To get a de-fragmented frame, use `newframe = frame.copy()`\n",
      "  df2.loc[idx, column +  \"_\" + str(year)] = columndict[year]\n",
      "/var/folders/1f/dn5t35316d5b0gv0v6mcj6sm0000gn/T/ipykernel_4280/398045178.py:18: PerformanceWarning: DataFrame is highly fragmented.  This is usually the result of calling `frame.insert` many times, which has poor performance.  Consider joining all columns at once using pd.concat(axis=1) instead. To get a de-fragmented frame, use `newframe = frame.copy()`\n",
      "  df2.loc[idx, column +  \"_\" + str(year)] = columndict[year]\n",
      "/var/folders/1f/dn5t35316d5b0gv0v6mcj6sm0000gn/T/ipykernel_4280/398045178.py:18: PerformanceWarning: DataFrame is highly fragmented.  This is usually the result of calling `frame.insert` many times, which has poor performance.  Consider joining all columns at once using pd.concat(axis=1) instead. To get a de-fragmented frame, use `newframe = frame.copy()`\n",
      "  df2.loc[idx, column +  \"_\" + str(year)] = columndict[year]\n",
      "/var/folders/1f/dn5t35316d5b0gv0v6mcj6sm0000gn/T/ipykernel_4280/398045178.py:18: PerformanceWarning: DataFrame is highly fragmented.  This is usually the result of calling `frame.insert` many times, which has poor performance.  Consider joining all columns at once using pd.concat(axis=1) instead. To get a de-fragmented frame, use `newframe = frame.copy()`\n",
      "  df2.loc[idx, column +  \"_\" + str(year)] = columndict[year]\n",
      "/var/folders/1f/dn5t35316d5b0gv0v6mcj6sm0000gn/T/ipykernel_4280/398045178.py:18: PerformanceWarning: DataFrame is highly fragmented.  This is usually the result of calling `frame.insert` many times, which has poor performance.  Consider joining all columns at once using pd.concat(axis=1) instead. To get a de-fragmented frame, use `newframe = frame.copy()`\n",
      "  df2.loc[idx, column +  \"_\" + str(year)] = columndict[year]\n",
      "/var/folders/1f/dn5t35316d5b0gv0v6mcj6sm0000gn/T/ipykernel_4280/398045178.py:18: PerformanceWarning: DataFrame is highly fragmented.  This is usually the result of calling `frame.insert` many times, which has poor performance.  Consider joining all columns at once using pd.concat(axis=1) instead. To get a de-fragmented frame, use `newframe = frame.copy()`\n",
      "  df2.loc[idx, column +  \"_\" + str(year)] = columndict[year]\n",
      "/var/folders/1f/dn5t35316d5b0gv0v6mcj6sm0000gn/T/ipykernel_4280/398045178.py:18: PerformanceWarning: DataFrame is highly fragmented.  This is usually the result of calling `frame.insert` many times, which has poor performance.  Consider joining all columns at once using pd.concat(axis=1) instead. To get a de-fragmented frame, use `newframe = frame.copy()`\n",
      "  df2.loc[idx, column +  \"_\" + str(year)] = columndict[year]\n",
      "/var/folders/1f/dn5t35316d5b0gv0v6mcj6sm0000gn/T/ipykernel_4280/398045178.py:18: PerformanceWarning: DataFrame is highly fragmented.  This is usually the result of calling `frame.insert` many times, which has poor performance.  Consider joining all columns at once using pd.concat(axis=1) instead. To get a de-fragmented frame, use `newframe = frame.copy()`\n",
      "  df2.loc[idx, column +  \"_\" + str(year)] = columndict[year]\n",
      "/var/folders/1f/dn5t35316d5b0gv0v6mcj6sm0000gn/T/ipykernel_4280/398045178.py:18: PerformanceWarning: DataFrame is highly fragmented.  This is usually the result of calling `frame.insert` many times, which has poor performance.  Consider joining all columns at once using pd.concat(axis=1) instead. To get a de-fragmented frame, use `newframe = frame.copy()`\n",
      "  df2.loc[idx, column +  \"_\" + str(year)] = columndict[year]\n",
      "/var/folders/1f/dn5t35316d5b0gv0v6mcj6sm0000gn/T/ipykernel_4280/398045178.py:18: PerformanceWarning: DataFrame is highly fragmented.  This is usually the result of calling `frame.insert` many times, which has poor performance.  Consider joining all columns at once using pd.concat(axis=1) instead. To get a de-fragmented frame, use `newframe = frame.copy()`\n",
      "  df2.loc[idx, column +  \"_\" + str(year)] = columndict[year]\n",
      "/var/folders/1f/dn5t35316d5b0gv0v6mcj6sm0000gn/T/ipykernel_4280/398045178.py:18: PerformanceWarning: DataFrame is highly fragmented.  This is usually the result of calling `frame.insert` many times, which has poor performance.  Consider joining all columns at once using pd.concat(axis=1) instead. To get a de-fragmented frame, use `newframe = frame.copy()`\n",
      "  df2.loc[idx, column +  \"_\" + str(year)] = columndict[year]\n",
      "/var/folders/1f/dn5t35316d5b0gv0v6mcj6sm0000gn/T/ipykernel_4280/398045178.py:18: PerformanceWarning: DataFrame is highly fragmented.  This is usually the result of calling `frame.insert` many times, which has poor performance.  Consider joining all columns at once using pd.concat(axis=1) instead. To get a de-fragmented frame, use `newframe = frame.copy()`\n",
      "  df2.loc[idx, column +  \"_\" + str(year)] = columndict[year]\n",
      "/var/folders/1f/dn5t35316d5b0gv0v6mcj6sm0000gn/T/ipykernel_4280/398045178.py:18: PerformanceWarning: DataFrame is highly fragmented.  This is usually the result of calling `frame.insert` many times, which has poor performance.  Consider joining all columns at once using pd.concat(axis=1) instead. To get a de-fragmented frame, use `newframe = frame.copy()`\n",
      "  df2.loc[idx, column +  \"_\" + str(year)] = columndict[year]\n",
      "/var/folders/1f/dn5t35316d5b0gv0v6mcj6sm0000gn/T/ipykernel_4280/398045178.py:18: PerformanceWarning: DataFrame is highly fragmented.  This is usually the result of calling `frame.insert` many times, which has poor performance.  Consider joining all columns at once using pd.concat(axis=1) instead. To get a de-fragmented frame, use `newframe = frame.copy()`\n",
      "  df2.loc[idx, column +  \"_\" + str(year)] = columndict[year]\n",
      "/var/folders/1f/dn5t35316d5b0gv0v6mcj6sm0000gn/T/ipykernel_4280/398045178.py:18: PerformanceWarning: DataFrame is highly fragmented.  This is usually the result of calling `frame.insert` many times, which has poor performance.  Consider joining all columns at once using pd.concat(axis=1) instead. To get a de-fragmented frame, use `newframe = frame.copy()`\n",
      "  df2.loc[idx, column +  \"_\" + str(year)] = columndict[year]\n",
      "/var/folders/1f/dn5t35316d5b0gv0v6mcj6sm0000gn/T/ipykernel_4280/398045178.py:18: PerformanceWarning: DataFrame is highly fragmented.  This is usually the result of calling `frame.insert` many times, which has poor performance.  Consider joining all columns at once using pd.concat(axis=1) instead. To get a de-fragmented frame, use `newframe = frame.copy()`\n",
      "  df2.loc[idx, column +  \"_\" + str(year)] = columndict[year]\n",
      "/var/folders/1f/dn5t35316d5b0gv0v6mcj6sm0000gn/T/ipykernel_4280/398045178.py:18: PerformanceWarning: DataFrame is highly fragmented.  This is usually the result of calling `frame.insert` many times, which has poor performance.  Consider joining all columns at once using pd.concat(axis=1) instead. To get a de-fragmented frame, use `newframe = frame.copy()`\n",
      "  df2.loc[idx, column +  \"_\" + str(year)] = columndict[year]\n",
      "/var/folders/1f/dn5t35316d5b0gv0v6mcj6sm0000gn/T/ipykernel_4280/398045178.py:18: PerformanceWarning: DataFrame is highly fragmented.  This is usually the result of calling `frame.insert` many times, which has poor performance.  Consider joining all columns at once using pd.concat(axis=1) instead. To get a de-fragmented frame, use `newframe = frame.copy()`\n",
      "  df2.loc[idx, column +  \"_\" + str(year)] = columndict[year]\n",
      "/var/folders/1f/dn5t35316d5b0gv0v6mcj6sm0000gn/T/ipykernel_4280/398045178.py:18: PerformanceWarning: DataFrame is highly fragmented.  This is usually the result of calling `frame.insert` many times, which has poor performance.  Consider joining all columns at once using pd.concat(axis=1) instead. To get a de-fragmented frame, use `newframe = frame.copy()`\n",
      "  df2.loc[idx, column +  \"_\" + str(year)] = columndict[year]\n",
      "/var/folders/1f/dn5t35316d5b0gv0v6mcj6sm0000gn/T/ipykernel_4280/398045178.py:18: PerformanceWarning: DataFrame is highly fragmented.  This is usually the result of calling `frame.insert` many times, which has poor performance.  Consider joining all columns at once using pd.concat(axis=1) instead. To get a de-fragmented frame, use `newframe = frame.copy()`\n",
      "  df2.loc[idx, column +  \"_\" + str(year)] = columndict[year]\n",
      "/var/folders/1f/dn5t35316d5b0gv0v6mcj6sm0000gn/T/ipykernel_4280/398045178.py:18: PerformanceWarning: DataFrame is highly fragmented.  This is usually the result of calling `frame.insert` many times, which has poor performance.  Consider joining all columns at once using pd.concat(axis=1) instead. To get a de-fragmented frame, use `newframe = frame.copy()`\n",
      "  df2.loc[idx, column +  \"_\" + str(year)] = columndict[year]\n",
      "/var/folders/1f/dn5t35316d5b0gv0v6mcj6sm0000gn/T/ipykernel_4280/398045178.py:18: PerformanceWarning: DataFrame is highly fragmented.  This is usually the result of calling `frame.insert` many times, which has poor performance.  Consider joining all columns at once using pd.concat(axis=1) instead. To get a de-fragmented frame, use `newframe = frame.copy()`\n",
      "  df2.loc[idx, column +  \"_\" + str(year)] = columndict[year]\n",
      "/var/folders/1f/dn5t35316d5b0gv0v6mcj6sm0000gn/T/ipykernel_4280/398045178.py:18: PerformanceWarning: DataFrame is highly fragmented.  This is usually the result of calling `frame.insert` many times, which has poor performance.  Consider joining all columns at once using pd.concat(axis=1) instead. To get a de-fragmented frame, use `newframe = frame.copy()`\n",
      "  df2.loc[idx, column +  \"_\" + str(year)] = columndict[year]\n",
      "/var/folders/1f/dn5t35316d5b0gv0v6mcj6sm0000gn/T/ipykernel_4280/398045178.py:18: PerformanceWarning: DataFrame is highly fragmented.  This is usually the result of calling `frame.insert` many times, which has poor performance.  Consider joining all columns at once using pd.concat(axis=1) instead. To get a de-fragmented frame, use `newframe = frame.copy()`\n",
      "  df2.loc[idx, column +  \"_\" + str(year)] = columndict[year]\n",
      "/var/folders/1f/dn5t35316d5b0gv0v6mcj6sm0000gn/T/ipykernel_4280/398045178.py:18: PerformanceWarning: DataFrame is highly fragmented.  This is usually the result of calling `frame.insert` many times, which has poor performance.  Consider joining all columns at once using pd.concat(axis=1) instead. To get a de-fragmented frame, use `newframe = frame.copy()`\n",
      "  df2.loc[idx, column +  \"_\" + str(year)] = columndict[year]\n",
      "/var/folders/1f/dn5t35316d5b0gv0v6mcj6sm0000gn/T/ipykernel_4280/398045178.py:18: PerformanceWarning: DataFrame is highly fragmented.  This is usually the result of calling `frame.insert` many times, which has poor performance.  Consider joining all columns at once using pd.concat(axis=1) instead. To get a de-fragmented frame, use `newframe = frame.copy()`\n",
      "  df2.loc[idx, column +  \"_\" + str(year)] = columndict[year]\n",
      "/var/folders/1f/dn5t35316d5b0gv0v6mcj6sm0000gn/T/ipykernel_4280/398045178.py:18: PerformanceWarning: DataFrame is highly fragmented.  This is usually the result of calling `frame.insert` many times, which has poor performance.  Consider joining all columns at once using pd.concat(axis=1) instead. To get a de-fragmented frame, use `newframe = frame.copy()`\n",
      "  df2.loc[idx, column +  \"_\" + str(year)] = columndict[year]\n",
      "/var/folders/1f/dn5t35316d5b0gv0v6mcj6sm0000gn/T/ipykernel_4280/398045178.py:18: PerformanceWarning: DataFrame is highly fragmented.  This is usually the result of calling `frame.insert` many times, which has poor performance.  Consider joining all columns at once using pd.concat(axis=1) instead. To get a de-fragmented frame, use `newframe = frame.copy()`\n",
      "  df2.loc[idx, column +  \"_\" + str(year)] = columndict[year]\n",
      "/var/folders/1f/dn5t35316d5b0gv0v6mcj6sm0000gn/T/ipykernel_4280/398045178.py:18: PerformanceWarning: DataFrame is highly fragmented.  This is usually the result of calling `frame.insert` many times, which has poor performance.  Consider joining all columns at once using pd.concat(axis=1) instead. To get a de-fragmented frame, use `newframe = frame.copy()`\n",
      "  df2.loc[idx, column +  \"_\" + str(year)] = columndict[year]\n",
      "/var/folders/1f/dn5t35316d5b0gv0v6mcj6sm0000gn/T/ipykernel_4280/398045178.py:18: PerformanceWarning: DataFrame is highly fragmented.  This is usually the result of calling `frame.insert` many times, which has poor performance.  Consider joining all columns at once using pd.concat(axis=1) instead. To get a de-fragmented frame, use `newframe = frame.copy()`\n",
      "  df2.loc[idx, column +  \"_\" + str(year)] = columndict[year]\n",
      "/var/folders/1f/dn5t35316d5b0gv0v6mcj6sm0000gn/T/ipykernel_4280/398045178.py:18: PerformanceWarning: DataFrame is highly fragmented.  This is usually the result of calling `frame.insert` many times, which has poor performance.  Consider joining all columns at once using pd.concat(axis=1) instead. To get a de-fragmented frame, use `newframe = frame.copy()`\n",
      "  df2.loc[idx, column +  \"_\" + str(year)] = columndict[year]\n",
      "/var/folders/1f/dn5t35316d5b0gv0v6mcj6sm0000gn/T/ipykernel_4280/398045178.py:18: PerformanceWarning: DataFrame is highly fragmented.  This is usually the result of calling `frame.insert` many times, which has poor performance.  Consider joining all columns at once using pd.concat(axis=1) instead. To get a de-fragmented frame, use `newframe = frame.copy()`\n",
      "  df2.loc[idx, column +  \"_\" + str(year)] = columndict[year]\n",
      "/var/folders/1f/dn5t35316d5b0gv0v6mcj6sm0000gn/T/ipykernel_4280/398045178.py:18: PerformanceWarning: DataFrame is highly fragmented.  This is usually the result of calling `frame.insert` many times, which has poor performance.  Consider joining all columns at once using pd.concat(axis=1) instead. To get a de-fragmented frame, use `newframe = frame.copy()`\n",
      "  df2.loc[idx, column +  \"_\" + str(year)] = columndict[year]\n",
      "/var/folders/1f/dn5t35316d5b0gv0v6mcj6sm0000gn/T/ipykernel_4280/398045178.py:18: PerformanceWarning: DataFrame is highly fragmented.  This is usually the result of calling `frame.insert` many times, which has poor performance.  Consider joining all columns at once using pd.concat(axis=1) instead. To get a de-fragmented frame, use `newframe = frame.copy()`\n",
      "  df2.loc[idx, column +  \"_\" + str(year)] = columndict[year]\n",
      "/var/folders/1f/dn5t35316d5b0gv0v6mcj6sm0000gn/T/ipykernel_4280/398045178.py:18: PerformanceWarning: DataFrame is highly fragmented.  This is usually the result of calling `frame.insert` many times, which has poor performance.  Consider joining all columns at once using pd.concat(axis=1) instead. To get a de-fragmented frame, use `newframe = frame.copy()`\n",
      "  df2.loc[idx, column +  \"_\" + str(year)] = columndict[year]\n",
      "100%|██████████| 72/72 [00:01<00:00, 49.66it/s]\n"
     ]
    }
   ],
   "source": [
    "#docentiscopus = docenti.merge(scopus_static)\n",
    "\n",
    "#total = docenti.merge(scopus_static)\n",
    "\n",
    "total = docenti\n",
    "total = temporalmerge(total,scopus_yby, ['papers', 'citations'])\n"
   ]
  },
  {
   "cell_type": "code",
   "execution_count": 48,
   "metadata": {},
   "outputs": [
    {
     "name": "stderr",
     "output_type": "stream",
     "text": [
      "100%|██████████| 72/72 [00:00<00:00, 490.67it/s]\n",
      "/var/folders/1f/dn5t35316d5b0gv0v6mcj6sm0000gn/T/ipykernel_4280/3813587996.py:4: PerformanceWarning: DataFrame is highly fragmented.  This is usually the result of calling `frame.insert` many times, which has poor performance.  Consider joining all columns at once using pd.concat(axis=1) instead. To get a de-fragmented frame, use `newframe = frame.copy()`\n",
      "  total['sex'] = total['Genere']\n"
     ]
    }
   ],
   "source": [
    "r = ruolo.merge(fascia)\n",
    "total = temporalmerge(total, r, ['fascia_id'])\n",
    "gendict = {'F':0, 'M':1}\n",
    "total['sex'] = total['Genere']\n",
    "total.replace( {\"sex\":gendict}, inplace=True )"
   ]
  },
  {
   "attachments": {},
   "cell_type": "markdown",
   "metadata": {},
   "source": [
    "## Anonimizzazione"
   ]
  },
  {
   "cell_type": "code",
   "execution_count": 49,
   "metadata": {},
   "outputs": [],
   "source": [
    "total.drop(columns = ['Cognome e Nome', 'Genere', 'Surname', 'First_Name', 'ID'], inplace=True)"
   ]
  },
  {
   "cell_type": "code",
   "execution_count": 50,
   "metadata": {},
   "outputs": [],
   "source": [
    "total = total.loc[total.Cod_AreaCUN.isin([1,9])]"
   ]
  },
  {
   "cell_type": "code",
   "execution_count": 51,
   "metadata": {},
   "outputs": [
    {
     "name": "stderr",
     "output_type": "stream",
     "text": [
      "/var/folders/1f/dn5t35316d5b0gv0v6mcj6sm0000gn/T/ipykernel_4280/1059717045.py:1: SettingWithCopyWarning: \n",
      "A value is trying to be set on a copy of a slice from a DataFrame\n",
      "\n",
      "See the caveats in the documentation: https://pandas.pydata.org/pandas-docs/stable/user_guide/indexing.html#returning-a-view-versus-a-copy\n",
      "  total.drop(columns=['Cod_AreaCUN'], inplace=True)\n"
     ]
    }
   ],
   "source": [
    "total.drop(columns=['Cod_AreaCUN'], inplace=True)"
   ]
  },
  {
   "attachments": {},
   "cell_type": "markdown",
   "metadata": {},
   "source": [
    "## Sliding Windows"
   ]
  },
  {
   "cell_type": "code",
   "execution_count": 52,
   "metadata": {},
   "outputs": [
    {
     "name": "stderr",
     "output_type": "stream",
     "text": [
      "/var/folders/1f/dn5t35316d5b0gv0v6mcj6sm0000gn/T/ipykernel_4280/3598284778.py:1: SettingWithCopyWarning: \n",
      "A value is trying to be set on a copy of a slice from a DataFrame\n",
      "\n",
      "See the caveats in the documentation: https://pandas.pydata.org/pandas-docs/stable/user_guide/indexing.html#returning-a-view-versus-a-copy\n",
      "  total.rename(columns={'durata':'anni_servizio'}, inplace=True)\n",
      "/var/folders/1f/dn5t35316d5b0gv0v6mcj6sm0000gn/T/ipykernel_4280/3598284778.py:2: SettingWithCopyWarning: \n",
      "A value is trying to be set on a copy of a slice from a DataFrame\n",
      "\n",
      "See the caveats in the documentation: https://pandas.pydata.org/pandas-docs/stable/user_guide/indexing.html#returning-a-view-versus-a-copy\n",
      "  total.drop(columns={'inizio','fine'}, inplace=True)\n"
     ]
    }
   ],
   "source": [
    "total.rename(columns={'durata':'anni_servizio'}, inplace=True)\n",
    "total.drop(columns={'inizio','fine'}, inplace=True)"
   ]
  },
  {
   "cell_type": "code",
   "execution_count": 53,
   "metadata": {},
   "outputs": [],
   "source": [
    "df_yby = {}"
   ]
  },
  {
   "cell_type": "code",
   "execution_count": 54,
   "metadata": {},
   "outputs": [],
   "source": [
    "for year in reversed(range( tw[0]+windowsize, tw[1]+1) ):\n",
    "    yearstoconsider = list(range(year-windowsize,year+1))\n",
    "    startingyear = 1937\n",
    "\n",
    "    todrop = []\n",
    "    ## Remove citations and publications\n",
    "    for year2 in range(startingyear,2023):\n",
    "        if year2 not in yearstoconsider:\n",
    "            if 'papers_' + str(year2) in total.columns:\n",
    "                todrop.append(\"papers_\" + str(year2))\n",
    "                todrop.append(\"citations_\" + str(year2))\n",
    "\n",
    "    #Remove fascia_id except current year\n",
    "    for year2 in range(startingyear,2023):\n",
    "        if year2 != year:\n",
    "            if 'fascia_id_' + str(year2) in total.columns:\n",
    "                todrop.append(\"fascia_id_\" + str(year2))\n",
    "\n",
    "    # Sum papers and citations up until year\n",
    "    startingyear = 1937\n",
    "    total_papers = total['papers_' + str(startingyear)]\n",
    "    total_citations = total['citations_' + str(startingyear)]\n",
    "    for yyyy in range(startingyear+1,year+1):\n",
    "        if 'papers_' + str(yyyy) in total.columns:\n",
    "            total_papers = total_papers + total['papers_' + str(yyyy)]\n",
    "            total_citations = total_citations + total['citations_' + str(yyyy)]\n",
    "    \n",
    "\n",
    "    yb = total.drop(columns=todrop)\n",
    "    yb.rename(columns={'fascia_id_' + str(year) : 'fascia_id'}, inplace=True)\n",
    "    yb['Total_papers'] = total_papers\n",
    "    yb['Total_citations'] = total_citations\n",
    "\n",
    "    df_yby[year] = yb"
   ]
  },
  {
   "cell_type": "code",
   "execution_count": 55,
   "metadata": {},
   "outputs": [
    {
     "data": {
      "text/plain": [
       "Index(['S.S.D.', 'Name', 'anni_servizio', 'papers_2019', 'papers_2020',\n",
       "       'papers_2021', 'papers_2022', 'citations_2019', 'citations_2020',\n",
       "       'citations_2021', 'citations_2022', 'fascia_id', 'sex', 'Total_papers',\n",
       "       'Total_citations'],\n",
       "      dtype='object')"
      ]
     },
     "execution_count": 55,
     "metadata": {},
     "output_type": "execute_result"
    }
   ],
   "source": [
    "df_yby[2022].columns"
   ]
  },
  {
   "cell_type": "code",
   "execution_count": 56,
   "metadata": {},
   "outputs": [],
   "source": [
    "\n",
    "for y in df_yby.keys():\n",
    "    df = df_yby[y]\n",
    "    df.rename(columns={'papers_' + str(y-3): 'papers_-3', 'papers_' + str(y-2): 'papers_-2', 'papers_' + str(y-1): 'papers_-1', 'papers_' + str(y): 'papers_0',\n",
    "    'citations_' + str(y-3): 'citations_-3', 'citations_' + str(y-2): 'citations_-2', 'citations_' + str(y-1): 'citations_-1', 'citations_' + str(y): 'citations_0'},inplace=True)\n"
   ]
  },
  {
   "cell_type": "code",
   "execution_count": 57,
   "metadata": {},
   "outputs": [],
   "source": [
    "for y in df_yby.keys():\n",
    "    one_hot = pd.get_dummies(df_yby[y]['S.S.D.'])\n",
    "    df_yby[y] = df_yby[y].drop('S.S.D.',axis = 1)\n",
    "    df_yby[y] = df_yby[y].join(one_hot)    \n"
   ]
  },
  {
   "cell_type": "code",
   "execution_count": 58,
   "metadata": {},
   "outputs": [],
   "source": [
    "for year in df_yby.keys():\n",
    "    df_yby[year].to_csv(os.path.join(savefolder,str(year) + \".csv\"))"
   ]
  }
 ],
 "metadata": {
  "kernelspec": {
   "display_name": "base",
   "language": "python",
   "name": "python3"
  },
  "language_info": {
   "codemirror_mode": {
    "name": "ipython",
    "version": 3
   },
   "file_extension": ".py",
   "mimetype": "text/x-python",
   "name": "python",
   "nbconvert_exporter": "python",
   "pygments_lexer": "ipython3",
   "version": "3.9.7"
  },
  "orig_nbformat": 4,
  "vscode": {
   "interpreter": {
    "hash": "40d3a090f54c6569ab1632332b64b2c03c39dcf918b08424e98f38b5ae0af88f"
   }
  }
 },
 "nbformat": 4,
 "nbformat_minor": 2
}
